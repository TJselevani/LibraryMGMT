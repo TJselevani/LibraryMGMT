{
 "cells": [
  {
   "cell_type": "code",
   "execution_count": 13,
   "id": "0e1c5834",
   "metadata": {},
   "outputs": [],
   "source": [
    "# Enhanced Library Management System - Data Analysis Notebook\n",
    "\"\"\"\n",
    "Comprehensive library data analysis with corrected database connections,\n",
    "improved visualizations, and actionable insights for library management.\n",
    "\"\"\"\n",
    "\n",
    "import sys\n",
    "import os\n",
    "import pandas as pd\n",
    "import numpy as np\n",
    "import plotly.graph_objects as go\n",
    "import plotly.express as px\n",
    "from plotly.subplots import make_subplots\n",
    "from datetime import datetime, timedelta, date\n",
    "import sqlite3\n",
    "from sqlalchemy import create_engine, func, and_, text\n",
    "from sqlalchemy.orm import sessionmaker\n",
    "import json\n",
    "import warnings\n",
    "warnings.filterwarnings('ignore')\n",
    "\n",
    "project_root = os.path.abspath(os.path.join(os.getcwd(), \"../..\"))\n",
    "if project_root not in sys.path:\n",
    "    sys.path.append(project_root)\n",
    "\n",
    "# Import your models and services\n",
    "from utils.database_manager import MyDatabaseManager as DatabaseManager\n",
    "from services.analytics_service import AnalyticsService\n",
    "from db.models import Book, BorrowedBook, Patron, Payment, PaymentItem, Category, MembershipStatus, PaymentStatus\n"
   ]
  },
  {
   "cell_type": "code",
   "execution_count": 14,
   "id": "2fff1ee8",
   "metadata": {},
   "outputs": [],
   "source": [
    "\n",
    "# =============================================================================\n",
    "# SETUP AND CONFIGURATION\n",
    "# =============================================================================\n",
    "\n",
    "class LibraryAnalytics:\n",
    "    \"\"\"Comprehensive library analytics class with corrected database interactions.\"\"\"\n",
    "    \n",
    "    def __init__(self, db_path):\n",
    "        self.db_manager = DatabaseManager(db_path)\n",
    "        self.analytics_service = AnalyticsService(self.db_manager)\n",
    "        \n",
    "        # Create direct SQLAlchemy connection for pandas operations\n",
    "        self.engine = create_engine(f'sqlite:///{db_path}')\n",
    "        \n",
    "        print(\"Database connection established successfully!\")\n",
    "        self._validate_database()\n",
    "    \n",
    "    def _validate_database(self):\n",
    "        \"\"\"Validate database structure and show basic stats.\"\"\"\n",
    "        with self.db_manager.get_session() as session:\n",
    "            tables_info = {\n",
    "                'books': session.query(Book).count(),\n",
    "                'patrons': session.query(Patron).count(),\n",
    "                'borrowed_books': session.query(BorrowedBook).count(),\n",
    "                'payments': session.query(Payment).count()\n",
    "            }\n",
    "            \n",
    "        print(\"\\nDatabase Overview:\")\n",
    "        for table, count in tables_info.items():\n",
    "            print(f\"  {table.replace('_', ' ').title()}: {count}\")\n",
    "        \n",
    "        return tables_info\n",
    "    \n",
    "    # =============================================================================\n",
    "    # DATA LOADING AND PREPARATION\n",
    "    # =============================================================================\n",
    "    \n",
    "    def load_analysis_data(self):\n",
    "        \"\"\"Load all relevant data for analysis with proper relationships.\"\"\"\n",
    "        \n",
    "        # Books with category information\n",
    "        books_query = \"\"\"\n",
    "        SELECT \n",
    "            b.book_id, b.title, b.author, b.isbn, b.class_name, \n",
    "            b.accession_no, b.is_available, b.created_at\n",
    "        FROM books b\n",
    "        \"\"\"\n",
    "        self.books_df = pd.read_sql_query(books_query, self.engine)\n",
    "        \n",
    "        # Patrons with membership details\n",
    "        patrons_query = \"\"\"\n",
    "        SELECT \n",
    "            p.user_id, p.patron_id, p.first_name, p.last_name,\n",
    "            (p.first_name || ' ' || p.last_name) as full_name,\n",
    "            p.institution, p.grade_level, p.category, p.age, p.gender,\n",
    "            p.date_of_birth, p.residence, p.phone_number,\n",
    "            p.membership_status, p.membership_start_date, p.membership_expiry_date,\n",
    "            p.membership_type\n",
    "        FROM patrons p\n",
    "        \"\"\"\n",
    "        self.patrons_df = pd.read_sql_query(patrons_query, self.engine)\n",
    "        \n",
    "        # Borrowed books with complete relationship data\n",
    "        borrowings_query = \"\"\"\n",
    "        SELECT \n",
    "            bb.borrow_id, bb.user_id, bb.book_id, bb.borrow_date, \n",
    "            bb.due_date, bb.return_date, bb.returned, bb.fine_amount,\n",
    "            b.title as book_title, b.author as book_author, b.class_name as book_genre,\n",
    "            (p.first_name || ' ' || p.last_name) as patron_name,\n",
    "            p.category as patron_category, p.membership_status,\n",
    "            CASE \n",
    "                WHEN bb.return_date IS NULL AND bb.due_date < date('now') \n",
    "                THEN (julianday('now') - julianday(bb.due_date))\n",
    "                ELSE 0 \n",
    "            END as days_overdue\n",
    "        FROM borrowed_books bb\n",
    "        JOIN books b ON bb.book_id = b.book_id\n",
    "        JOIN patrons p ON bb.user_id = p.user_id\n",
    "        \"\"\"\n",
    "        self.borrowings_df = pd.read_sql_query(borrowings_query, self.engine)\n",
    "        \n",
    "        # Payments with item details\n",
    "        payments_query = \"\"\"\n",
    "        SELECT \n",
    "            py.payment_id, py.user_id, py.payment_item_id,\n",
    "            py.amount_paid, py.total_amount_due, py.payment_date, py.status,\n",
    "            py.membership_start_date, py.membership_expiry_date, \n",
    "            py.is_membership_active, py.notes,\n",
    "            (p.first_name || ' ' || p.last_name) as patron_name,\n",
    "            p.category as patron_category,\n",
    "            pi.name as payment_type, pi.display_name as payment_description,\n",
    "            pi.is_membership,\n",
    "            (py.total_amount_due - py.amount_paid) as remaining_amount\n",
    "        FROM payments py\n",
    "        JOIN patrons p ON py.user_id = p.user_id\n",
    "        JOIN payment_items pi ON py.payment_item_id = pi.id\n",
    "        \"\"\"\n",
    "        self.payments_df = pd.read_sql_query(payments_query, self.engine)\n",
    "        \n",
    "        # Convert date columns\n",
    "        date_columns = {\n",
    "            'borrowings_df': ['borrow_date', 'due_date', 'return_date'],\n",
    "            'payments_df': ['payment_date', 'membership_start_date', 'membership_expiry_date'],\n",
    "            'patrons_df': ['membership_start_date', 'membership_expiry_date', 'date_of_birth']\n",
    "        }\n",
    "        \n",
    "        for df_name, columns in date_columns.items():\n",
    "            df = getattr(self, df_name)\n",
    "            for col in columns:\n",
    "                if col in df.columns:\n",
    "                    df[col] = pd.to_datetime(df[col], errors='coerce')\n",
    "        \n",
    "        print(f\"\\nData loaded successfully:\")\n",
    "        print(f\"  Books: {len(self.books_df)}\")\n",
    "        print(f\"  Patrons: {len(self.patrons_df)}\")\n",
    "        print(f\"  Borrowings: {len(self.borrowings_df)}\")\n",
    "        print(f\"  Payments: {len(self.payments_df)}\")\n",
    "        \n",
    "        return True\n",
    "    \n",
    "    # =============================================================================\n",
    "    # CORE ANALYTICS FUNCTIONS\n",
    "    # =============================================================================\n",
    "    \n",
    "    def analyze_collection_health(self):\n",
    "        \"\"\"Analyze the health and composition of the book collection.\"\"\"\n",
    "        if self.books_df.empty:\n",
    "            return None\n",
    "            \n",
    "        # Genre distribution\n",
    "        genre_dist = self.books_df['class_name'].value_counts()\n",
    "        \n",
    "        # Availability analysis\n",
    "        availability_stats = {\n",
    "            'total_books': len(self.books_df),\n",
    "            'available_books': len(self.books_df[self.books_df['is_available'] == True]),\n",
    "            'unavailable_books': len(self.books_df[self.books_df['is_available'] == False])\n",
    "        }\n",
    "        availability_stats['availability_rate'] = (availability_stats['available_books'] / availability_stats['total_books']) * 100\n",
    "        \n",
    "        # Create visualization\n",
    "        fig = make_subplots(\n",
    "            rows=1, cols=2,\n",
    "            subplot_titles=('Collection by Genre', 'Book Availability'),\n",
    "            specs=[[{\"type\": \"pie\"}, {\"type\": \"bar\"}]]\n",
    "        )\n",
    "        \n",
    "        # Genre pie chart\n",
    "        fig.add_trace(\n",
    "            go.Pie(\n",
    "                labels=genre_dist.index,\n",
    "                values=genre_dist.values,\n",
    "                name=\"Genre Distribution\",\n",
    "                hovertemplate=\"<b>%{label}</b><br>Books: %{value}<br>Percentage: %{percent}<extra></extra>\"\n",
    "            ), row=1, col=1\n",
    "        )\n",
    "        \n",
    "        # Availability bar chart\n",
    "        fig.add_trace(\n",
    "            go.Bar(\n",
    "                x=['Available', 'Checked Out'],\n",
    "                y=[availability_stats['available_books'], availability_stats['unavailable_books']],\n",
    "                marker_color=['#2E8B57', '#DC143C'],\n",
    "                name=\"Availability\"\n",
    "            ), row=1, col=2\n",
    "        )\n",
    "        \n",
    "        fig.update_layout(\n",
    "            title=\"Library Collection Health Analysis\",\n",
    "            template=\"plotly_white\",\n",
    "            height=500\n",
    "        )\n",
    "        \n",
    "        return fig, availability_stats, genre_dist\n",
    "    \n",
    "    def analyze_borrowing_patterns(self):\n",
    "        \"\"\"Comprehensive borrowing pattern analysis.\"\"\"\n",
    "        if self.borrowings_df.empty:\n",
    "            return None\n",
    "            \n",
    "        # Monthly trends\n",
    "        self.borrowings_df['borrow_month'] = self.borrowings_df['borrow_date'].dt.to_period('M')\n",
    "        monthly_trends = self.borrowings_df.groupby('borrow_month').size()\n",
    "        \n",
    "        # Day of week patterns\n",
    "        self.borrowings_df['day_of_week'] = self.borrowings_df['borrow_date'].dt.day_name()\n",
    "        dow_order = ['Monday', 'Tuesday', 'Wednesday', 'Thursday', 'Friday', 'Saturday', 'Sunday']\n",
    "        dow_patterns = self.borrowings_df['day_of_week'].value_counts().reindex(dow_order, fill_value=0)\n",
    "        \n",
    "        # Hourly patterns (if time data available)\n",
    "        self.borrowings_df['borrow_hour'] = self.borrowings_df['borrow_date'].dt.hour\n",
    "        hourly_patterns = self.borrowings_df['borrow_hour'].value_counts().sort_index()\n",
    "        \n",
    "        # Create comprehensive visualization\n",
    "        fig = make_subplots(\n",
    "            rows=2, cols=2,\n",
    "            subplot_titles=('Monthly Borrowing Trends', 'Borrowings by Day of Week', \n",
    "                          'Hourly Distribution', 'Genre Popularity'),\n",
    "            specs=[[{\"colspan\": 2}, None], \n",
    "                   [{\"type\": \"bar\"}, {\"type\": \"bar\"}]]\n",
    "        )\n",
    "        \n",
    "        # Monthly trend line\n",
    "        fig.add_trace(\n",
    "            go.Scatter(\n",
    "                x=[str(m) for m in monthly_trends.index],\n",
    "                y=monthly_trends.values,\n",
    "                mode='lines+markers',\n",
    "                name='Monthly Borrowings',\n",
    "                line=dict(color='#2E86AB', width=3),\n",
    "                marker=dict(size=8)\n",
    "            ), row=1, col=1\n",
    "        )\n",
    "        \n",
    "        # Day of week bar chart\n",
    "        fig.add_trace(\n",
    "            go.Bar(\n",
    "                x=dow_patterns.index,\n",
    "                y=dow_patterns.values,\n",
    "                marker_color='#A23B72',\n",
    "                name='Day of Week'\n",
    "            ), row=2, col=1\n",
    "        )\n",
    "        \n",
    "        # Hourly distribution\n",
    "        fig.add_trace(\n",
    "            go.Bar(\n",
    "                x=hourly_patterns.index,\n",
    "                y=hourly_patterns.values,\n",
    "                marker_color='#F18F01',\n",
    "                name='Hourly Pattern'\n",
    "            ), row=2, col=2\n",
    "        )\n",
    "        \n",
    "        fig.update_layout(\n",
    "            title=\"Borrowing Pattern Analysis\",\n",
    "            template=\"plotly_white\",\n",
    "            height=700,\n",
    "            showlegend=False\n",
    "        )\n",
    "        \n",
    "        return fig, {\n",
    "            'monthly_trends': monthly_trends,\n",
    "            'peak_day': dow_patterns.idxmax(),\n",
    "            'peak_hour': hourly_patterns.idxmax() if not hourly_patterns.empty else None,\n",
    "            'total_borrowings': len(self.borrowings_df)\n",
    "        }\n",
    "    \n",
    "    def analyze_patron_behavior(self):\n",
    "        \"\"\"Deep dive into patron behavior and engagement.\"\"\"\n",
    "        if self.borrowings_df.empty or self.patrons_df.empty:\n",
    "            return None\n",
    "            \n",
    "        # Patron activity metrics\n",
    "        patron_activity = self.borrowings_df.groupby('patron_name').agg({\n",
    "            'borrow_id': 'count',\n",
    "            'book_title': lambda x: x.nunique(),\n",
    "            'days_overdue': 'sum',\n",
    "            'fine_amount': 'sum'\n",
    "        }).rename(columns={\n",
    "            'borrow_id': 'total_borrowings',\n",
    "            'book_title': 'unique_books',\n",
    "            'days_overdue': 'total_overdue_days',\n",
    "            'fine_amount': 'total_fines'\n",
    "        })\n",
    "        \n",
    "        # Add payment data\n",
    "        if not self.payments_df.empty:\n",
    "            patron_payments = self.payments_df.groupby('patron_name')['amount_paid'].sum()\n",
    "            patron_activity = patron_activity.join(patron_payments, how='left')\n",
    "            patron_activity['amount_paid'] = patron_activity['amount_paid'].fillna(0)\n",
    "        \n",
    "        # Category-wise analysis\n",
    "        category_stats = self.borrowings_df.groupby('patron_category').agg({\n",
    "            'borrow_id': 'count',\n",
    "            'patron_name': lambda x: x.nunique()\n",
    "        }).rename(columns={'borrow_id': 'total_borrowings', 'patron_name': 'active_patrons'})\n",
    "        \n",
    "        # Create visualization\n",
    "        fig = make_subplots(\n",
    "            rows=2, cols=2,\n",
    "            subplot_titles=('Patron Activity Scatter', 'Borrowings by Category', \n",
    "                          'Top 10 Most Active Patrons', 'Membership Distribution'),\n",
    "            specs=[[{\"type\": \"scatter\"}, {\"type\": \"pie\"}],\n",
    "                   [{\"type\": \"bar\"}, {\"type\": \"bar\"}]]\n",
    "        )\n",
    "        \n",
    "        # Activity scatter plot\n",
    "        fig.add_trace(\n",
    "            go.Scatter(\n",
    "                x=patron_activity['total_borrowings'],\n",
    "                y=patron_activity.get('amount_paid', [0] * len(patron_activity)),\n",
    "                mode='markers',\n",
    "                text=patron_activity.index,\n",
    "                marker=dict(\n",
    "                    size=patron_activity['unique_books'] * 2,\n",
    "                    color=patron_activity['total_borrowings'],\n",
    "                    colorscale='Viridis',\n",
    "                    showscale=True,\n",
    "                    sizemode='diameter',\n",
    "                    sizemin=4\n",
    "                ),\n",
    "                hovertemplate='<b>%{text}</b><br>Borrowings: %{x}<br>Payments: $%{y}<extra></extra>'\n",
    "            ), row=1, col=1\n",
    "        )\n",
    "        \n",
    "        # Category pie chart\n",
    "        fig.add_trace(\n",
    "            go.Pie(\n",
    "                labels=category_stats.index,\n",
    "                values=category_stats['total_borrowings'],\n",
    "                name=\"Category Distribution\"\n",
    "            ), row=1, col=2\n",
    "        )\n",
    "        \n",
    "        # Top patrons bar chart\n",
    "        top_patrons = patron_activity.nlargest(10, 'total_borrowings')\n",
    "        fig.add_trace(\n",
    "            go.Bar(\n",
    "                x=top_patrons['total_borrowings'],\n",
    "                y=[name[:20] + '...' if len(name) > 20 else name for name in top_patrons.index],\n",
    "                orientation='h',\n",
    "                marker_color='#C73E1D'\n",
    "            ), row=2, col=1\n",
    "        )\n",
    "        \n",
    "        # Membership status distribution\n",
    "        if not self.patrons_df.empty:\n",
    "            membership_dist = self.patrons_df['membership_status'].value_counts()\n",
    "            fig.add_trace(\n",
    "                go.Bar(\n",
    "                    x=membership_dist.index,\n",
    "                    y=membership_dist.values,\n",
    "                    marker_color='#2E8B57'\n",
    "                ), row=2, col=2\n",
    "            )\n",
    "        \n",
    "        fig.update_layout(\n",
    "            title=\"Patron Behavior Analysis\",\n",
    "            template=\"plotly_white\",\n",
    "            height=800\n",
    "        )\n",
    "        \n",
    "        return fig, patron_activity\n",
    "    \n",
    "    def analyze_overdue_crisis(self):\n",
    "        \"\"\"Critical analysis of overdue books and patterns.\"\"\"\n",
    "        if self.borrowings_df.empty:\n",
    "            return None\n",
    "            \n",
    "        # Current overdue analysis\n",
    "        current_overdue = self.borrowings_df[\n",
    "            (self.borrowings_df['return_date'].isna()) & \n",
    "            (self.borrowings_df['days_overdue'] > 0)\n",
    "        ].copy()\n",
    "        \n",
    "        if current_overdue.empty:\n",
    "            print(\"No overdue books found!\")\n",
    "            return None\n",
    "            \n",
    "        # Overdue severity categorization\n",
    "        current_overdue['severity'] = pd.cut(\n",
    "            current_overdue['days_overdue'],\n",
    "            bins=[0, 7, 30, 90, float('inf')],\n",
    "            labels=['1-7 days', '8-30 days', '31-90 days', '90+ days'],\n",
    "            include_lowest=True\n",
    "        )\n",
    "        \n",
    "        severity_dist = current_overdue['severity'].value_counts()\n",
    "        \n",
    "        # Top overdue patrons\n",
    "        overdue_by_patron = current_overdue.groupby('patron_name').agg({\n",
    "            'days_overdue': ['count', 'sum', 'mean'],\n",
    "            'fine_amount': 'sum'\n",
    "        }).round(2)\n",
    "        overdue_by_patron.columns = ['overdue_books', 'total_days_overdue', 'avg_days_overdue', 'total_fines']\n",
    "        \n",
    "        # Create visualization\n",
    "        fig = make_subplots(\n",
    "            rows=2, cols=2,\n",
    "            subplot_titles=('Overdue Severity Distribution', 'Overdue Days Histogram', \n",
    "                          'Top 10 Overdue Patrons', 'Overdue by Genre'),\n",
    "            specs=[[{\"type\": \"pie\"}, {\"type\": \"histogram\"}],\n",
    "                   [{\"type\": \"bar\"}, {\"type\": \"bar\"}]]\n",
    "        )\n",
    "        \n",
    "        # Severity pie chart\n",
    "        colors = ['#90EE90', '#FFD700', '#FF8C00', '#FF4500']\n",
    "        fig.add_trace(\n",
    "            go.Pie(\n",
    "                labels=severity_dist.index,\n",
    "                values=severity_dist.values,\n",
    "                marker_colors=colors,\n",
    "                name=\"Overdue Severity\"\n",
    "            ), row=1, col=1\n",
    "        )\n",
    "        \n",
    "        # Days overdue histogram\n",
    "        fig.add_trace(\n",
    "            go.Histogram(\n",
    "                x=current_overdue['days_overdue'],\n",
    "                nbinsx=20,\n",
    "                marker_color='#FF6B6B',\n",
    "                opacity=0.7,\n",
    "                name=\"Days Distribution\"\n",
    "            ), row=1, col=2\n",
    "        )\n",
    "        \n",
    "        # Top overdue patrons\n",
    "        top_overdue = overdue_by_patron.nlargest(10, 'total_days_overdue')\n",
    "        fig.add_trace(\n",
    "            go.Bar(\n",
    "                x=top_overdue['total_days_overdue'],\n",
    "                y=[name[:15] + '...' if len(name) > 15 else name for name in top_overdue.index],\n",
    "                orientation='h',\n",
    "                marker_color='#DC143C'\n",
    "            ), row=2, col=1\n",
    "        )\n",
    "        \n",
    "        # Overdue by genre\n",
    "        genre_overdue = current_overdue.groupby('book_genre')['days_overdue'].count().sort_values(ascending=False)\n",
    "        fig.add_trace(\n",
    "            go.Bar(\n",
    "                x=genre_overdue.values,\n",
    "                y=genre_overdue.index,\n",
    "                orientation='h',\n",
    "                marker_color='#800080'\n",
    "            ), row=2, col=2\n",
    "        )\n",
    "        \n",
    "        fig.update_layout(\n",
    "            title=\"OVERDUE BOOKS CRISIS ANALYSIS\",\n",
    "            template=\"plotly_white\",\n",
    "            height=800\n",
    "        )\n",
    "        \n",
    "        return fig, {\n",
    "            'total_overdue': len(current_overdue),\n",
    "            'avg_days_overdue': current_overdue['days_overdue'].mean(),\n",
    "            'max_days_overdue': current_overdue['days_overdue'].max(),\n",
    "            'severity_distribution': severity_dist,\n",
    "            'total_potential_fines': current_overdue['fine_amount'].sum()\n",
    "        }\n",
    "    \n",
    "    def analyze_financial_performance(self):\n",
    "        \"\"\"Comprehensive financial analysis with revenue insights.\"\"\"\n",
    "        if self.payments_df.empty:\n",
    "            return None\n",
    "            \n",
    "        # Monthly revenue trends\n",
    "        self.payments_df['payment_month'] = self.payments_df['payment_date'].dt.to_period('M')\n",
    "        monthly_revenue = self.payments_df.groupby('payment_month').agg({\n",
    "            'amount_paid': 'sum',\n",
    "            'payment_id': 'count'\n",
    "        }).rename(columns={'payment_id': 'transaction_count'})\n",
    "        \n",
    "        # Payment status analysis\n",
    "        status_analysis = self.payments_df.groupby('status').agg({\n",
    "            'amount_paid': 'sum',\n",
    "            'remaining_amount': 'sum',\n",
    "            'payment_id': 'count'\n",
    "        })\n",
    "        \n",
    "        # Revenue by category\n",
    "        category_revenue = self.payments_df.groupby('patron_category')['amount_paid'].sum()\n",
    "        \n",
    "        # Payment type performance\n",
    "        payment_type_performance = self.payments_df.groupby('payment_type').agg({\n",
    "            'amount_paid': 'sum',\n",
    "            'payment_id': 'count'\n",
    "        })\n",
    "        \n",
    "        # Create comprehensive financial dashboard\n",
    "        fig = make_subplots(\n",
    "            rows=2, cols=2,\n",
    "            subplot_titles=('Monthly Revenue Trends', 'Payment Status Distribution', \n",
    "                          'Revenue by Patron Category', 'Payment Type Performance'),\n",
    "            specs=[[{\"secondary_y\": True}, {\"type\": \"pie\"}],\n",
    "                   [{\"type\": \"bar\"}, {\"type\": \"bar\"}]]\n",
    "        )\n",
    "        \n",
    "        # Monthly revenue with transaction count\n",
    "        fig.add_trace(\n",
    "            go.Scatter(\n",
    "                x=[str(m) for m in monthly_revenue.index],\n",
    "                y=monthly_revenue['amount_paid'],\n",
    "                mode='lines+markers',\n",
    "                name='Revenue',\n",
    "                line=dict(color='#2E8B57', width=3)\n",
    "            ), row=1, col=1\n",
    "        )\n",
    "        \n",
    "        fig.add_trace(\n",
    "            go.Bar(\n",
    "                x=[str(m) for m in monthly_revenue.index],\n",
    "                y=monthly_revenue['transaction_count'],\n",
    "                name='Transactions',\n",
    "                marker_color='#87CEEB',\n",
    "                opacity=0.6\n",
    "            ), row=1, col=1, secondary_y=True\n",
    "        )\n",
    "        \n",
    "        # Payment status pie\n",
    "        fig.add_trace(\n",
    "            go.Pie(\n",
    "                labels=status_analysis.index,\n",
    "                values=status_analysis['amount_paid'],\n",
    "                name=\"Status Distribution\"\n",
    "            ), row=1, col=2\n",
    "        )\n",
    "        \n",
    "        # Category revenue bar\n",
    "        fig.add_trace(\n",
    "            go.Bar(\n",
    "                x=category_revenue.index,\n",
    "                y=category_revenue.values,\n",
    "                marker_color='#FF8C00'\n",
    "            ), row=2, col=1\n",
    "        )\n",
    "        \n",
    "        # Payment type performance\n",
    "        fig.add_trace(\n",
    "            go.Bar(\n",
    "                x=payment_type_performance.index,\n",
    "                y=payment_type_performance['amount_paid'],\n",
    "                marker_color='#9370DB'\n",
    "            ), row=2, col=2\n",
    "        )\n",
    "        \n",
    "        fig.update_layout(\n",
    "            title=\"Financial Performance Dashboard\",\n",
    "            template=\"plotly_white\",\n",
    "            height=800\n",
    "        )\n",
    "        \n",
    "        return fig, {\n",
    "            'total_revenue': self.payments_df['amount_paid'].sum(),\n",
    "            'outstanding_amount': self.payments_df['remaining_amount'].sum(),\n",
    "            'avg_payment': self.payments_df['amount_paid'].mean(),\n",
    "            'total_transactions': len(self.payments_df),\n",
    "            'monthly_revenue': monthly_revenue\n",
    "        }\n",
    "    \n",
    "    def generate_predictive_insights(self):\n",
    "        \"\"\"Generate actionable insights and predictions.\"\"\"\n",
    "        insights = []\n",
    "        recommendations = []\n",
    "        \n",
    "        # Borrowing insights\n",
    "        if not self.borrowings_df.empty:\n",
    "            if 'day_of_week' not in self.borrowings_df.columns:\n",
    "                self.borrowings_df['day_of_week'] = self.borrowings_df['borrow_date'].dt.day\n",
    "                \n",
    "            # Peak borrowing analysis\n",
    "            peak_day = self.borrowings_df['day_of_week'].mode().iloc[0] if not self.borrowings_df.empty else None\n",
    "            if peak_day:\n",
    "                insights.append(f\"Peak borrowing day: {peak_day}\")\n",
    "                recommendations.append(f\"Ensure adequate staffing on {peak_day}s\")\n",
    "            \n",
    "            # Return rate analysis\n",
    "            total_borrowings = len(self.borrowings_df)\n",
    "            returned_books = len(self.borrowings_df[self.borrowings_df['returned'] == True])\n",
    "            return_rate = (returned_books / total_borrowings) * 100 if total_borrowings > 0 else 0\n",
    "            insights.append(f\"Overall return rate: {return_rate:.1f}%\")\n",
    "            \n",
    "            if return_rate < 85:\n",
    "                recommendations.append(\"Consider implementing stricter return policies or automated reminders\")\n",
    "            \n",
    "            # Genre popularity\n",
    "            popular_genre = self.borrowings_df['book_genre'].mode().iloc[0] if not self.borrowings_df['book_genre'].empty else None\n",
    "            if popular_genre:\n",
    "                insights.append(f\"Most popular genre: {popular_genre}\")\n",
    "                recommendations.append(f\"Consider expanding {popular_genre} collection\")\n",
    "        \n",
    "        # Financial insights\n",
    "        if not self.payments_df.empty:\n",
    "            # Revenue trends\n",
    "            recent_revenue = self.payments_df[\n",
    "                self.payments_df['payment_date'] >= (datetime.now() - timedelta(days=30))\n",
    "            ]['amount_paid'].sum()\n",
    "            insights.append(f\"Revenue (last 30 days): ${recent_revenue:.2f}\")\n",
    "            \n",
    "            # Outstanding payments\n",
    "            outstanding = self.payments_df['remaining_amount'].sum()\n",
    "            if outstanding > 0:\n",
    "                insights.append(f\"Outstanding payments: ${outstanding:.2f}\")\n",
    "                recommendations.append(\"Implement payment reminder system for outstanding balances\")\n",
    "        \n",
    "        # Membership insights\n",
    "        if not self.patrons_df.empty:\n",
    "            active_members = len(self.patrons_df[self.patrons_df['membership_status'] == 'active'])\n",
    "            total_patrons = len(self.patrons_df)\n",
    "            membership_rate = (active_members / total_patrons) * 100 if total_patrons > 0 else 0\n",
    "            insights.append(f\"Active membership rate: {membership_rate:.1f}%\")\n",
    "            \n",
    "            if membership_rate < 60:\n",
    "                recommendations.append(\"Launch membership drive campaign to increase active memberships\")\n",
    "        \n",
    "        return insights, recommendations\n",
    "    \n",
    "    def create_executive_summary(self):\n",
    "        \"\"\"Generate comprehensive executive summary with key metrics.\"\"\"\n",
    "        summary = {\n",
    "            'generated_at': datetime.now().isoformat(),\n",
    "            'period': '30 days',\n",
    "            'key_metrics': {},\n",
    "            'alerts': [],\n",
    "            'recommendations': []\n",
    "        }\n",
    "        \n",
    "        # Basic metrics\n",
    "        with self.db_manager.get_session() as session:\n",
    "            summary['key_metrics']['total_books'] = session.query(Book).count()\n",
    "            summary['key_metrics']['total_patrons'] = session.query(Patron).count()\n",
    "            summary['key_metrics']['active_borrowings'] = session.query(BorrowedBook).filter(\n",
    "                BorrowedBook.return_date.is_(None)\n",
    "            ).count()\n",
    "        \n",
    "        # Financial metrics\n",
    "        if not self.payments_df.empty:\n",
    "            summary['key_metrics']['total_revenue'] = float(self.payments_df['amount_paid'].sum())\n",
    "            summary['key_metrics']['outstanding_payments'] = float(self.payments_df['remaining_amount'].sum())\n",
    "        \n",
    "        # Generate alerts\n",
    "        if not self.borrowings_df.empty:\n",
    "            overdue_count = len(self.borrowings_df[self.borrowings_df['days_overdue'] > 0])\n",
    "            if overdue_count > 0:\n",
    "                summary['alerts'].append(f\"URGENT: {overdue_count} overdue books require immediate attention\")\n",
    "        \n",
    "        # Get recommendations\n",
    "        _, recommendations = self.generate_predictive_insights()\n",
    "        summary['recommendations'] = recommendations\n",
    "        \n",
    "        return summary\n"
   ]
  },
  {
   "cell_type": "code",
   "execution_count": 15,
   "id": "79223ae1",
   "metadata": {},
   "outputs": [],
   "source": [
    "\n",
    "\n",
    "# =============================================================================\n",
    "# MAIN ANALYSIS EXECUTION\n",
    "# =============================================================================\n",
    "\n",
    "def run_comprehensive_analysis(db_path):\n",
    "    \"\"\"Run complete library analysis and generate report.\"\"\"\n",
    "    \n",
    "    print(\"=\" * 60)\n",
    "    print(\"COMPREHENSIVE LIBRARY ANALYTICS REPORT\")\n",
    "    print(\"=\" * 60)\n",
    "    \n",
    "    # Initialize analytics\n",
    "    analytics = LibraryAnalytics(db_path)\n",
    "    analytics.load_analysis_data()\n",
    "    \n",
    "    # Store all figures for export\n",
    "    analysis_results = {}\n",
    "    \n",
    "    print(\"\\n1. COLLECTION HEALTH ANALYSIS\")\n",
    "    print(\"-\" * 40)\n",
    "    collection_fig, availability_stats, genre_dist = analytics.analyze_collection_health()\n",
    "    analysis_results['collection_health'] = collection_fig\n",
    "    print(f\"Total Books: {availability_stats['total_books']}\")\n",
    "    print(f\"Availability Rate: {availability_stats['availability_rate']:.1f}%\")\n",
    "    print(f\"Most Popular Genre: {genre_dist.index[0]} ({genre_dist.iloc[0]} books)\")\n",
    "    fig, stats, dist = analytics.analyze_collection_health()\n",
    "    fig.show()\n",
    "    stats.show()\n",
    "    dist.show()\n",
    "    \n",
    "    print(\"\\n2. BORROWING PATTERNS\")\n",
    "    print(\"-\" * 40)\n",
    "    borrowing_fig, borrowing_stats = analytics.analyze_borrowing_patterns()\n",
    "    analysis_results['borrowing_patterns'] = borrowing_fig\n",
    "    print(f\"Total Borrowings: {borrowing_stats['total_borrowings']}\")\n",
    "    print(f\"Peak Borrowing Day: {borrowing_stats['peak_day']}\")\n",
    "    \n",
    "    print(\"\\n3. PATRON BEHAVIOR\")\n",
    "    print(\"-\" * 40)\n",
    "    patron_fig, patron_activity = analytics.analyze_patron_behavior()\n",
    "    analysis_results['patron_behavior'] = patron_fig\n",
    "    print(f\"Most Active Patron: {patron_activity['total_borrowings'].idxmax()}\")\n",
    "    print(f\"Average Books per Patron: {patron_activity['total_borrowings'].mean():.1f}\")\n",
    "    \n",
    "    print(\"\\n4. OVERDUE ANALYSIS\")\n",
    "    print(\"-\" * 40)\n",
    "    overdue_result = analytics.analyze_overdue_crisis()\n",
    "    if overdue_result:\n",
    "        overdue_fig, overdue_stats = overdue_result\n",
    "        analysis_results['overdue_analysis'] = overdue_fig\n",
    "        print(f\"CRITICAL: {overdue_stats['total_overdue']} books are overdue\")\n",
    "        print(f\"Average Days Overdue: {overdue_stats['avg_days_overdue']:.1f}\")\n",
    "        print(f\"Longest Overdue: {overdue_stats['max_days_overdue']} days\")\n",
    "    else:\n",
    "        print(\"No overdue books - Excellent!\")\n",
    "    \n",
    "    print(\"\\n5. FINANCIAL PERFORMANCE\")\n",
    "    print(\"-\" * 40)\n",
    "    financial_fig, financial_stats = analytics.analyze_financial_performance()\n",
    "    analysis_results['financial_performance'] = financial_fig\n",
    "    print(f\"Total Revenue: ${financial_stats['total_revenue']:.2f}\")\n",
    "    print(f\"Outstanding Amount: ${financial_stats['outstanding_amount']:.2f}\")\n",
    "    print(f\"Average Payment: ${financial_stats['avg_payment']:.2f}\")\n",
    "    \n",
    "    print(\"\\n6. EXECUTIVE SUMMARY\")\n",
    "    print(\"-\" * 40)\n",
    "    summary = analytics.create_executive_summary()\n",
    "    \n",
    "    print(\"KEY INSIGHTS:\")\n",
    "    insights, recommendations = analytics.generate_predictive_insights()\n",
    "    for insight in insights[:5]:  # Show top 5 insights\n",
    "        print(f\"  • {insight}\")\n",
    "    \n",
    "    print(\"\\nACTION ITEMS:\")\n",
    "    for rec in recommendations[:5]:  # Show top 5 recommendations\n",
    "        print(f\"  → {rec}\")\n",
    "    \n",
    "    print(\"\\n\" + \"=\" * 60)\n",
    "    print(\"ANALYSIS COMPLETE\")\n",
    "    print(\"=\" * 60)\n",
    "    \n",
    "    return analysis_results, summary"
   ]
  },
  {
   "cell_type": "code",
   "execution_count": 16,
   "id": "cac2efee",
   "metadata": {},
   "outputs": [],
   "source": [
    "\n",
    "\n",
    "# =============================================================================\n",
    "# PRODUCTION FUNCTIONS FOR PYQT5 INTEGRATION\n",
    "# =============================================================================\n",
    "\n",
    "class LibraryDashboardAPI:\n",
    "    \"\"\"Production-ready API for PyQt5 dashboard integration.\"\"\"\n",
    "    \n",
    "    def __init__(self, db_path):\n",
    "        self.analytics = LibraryAnalytics(db_path)\n",
    "        self.analytics.load_analysis_data()\n",
    "    \n",
    "    def get_kpi_metrics(self):\n",
    "        \"\"\"Get key performance indicators for dashboard cards.\"\"\"\n",
    "        with self.analytics.db_manager.get_session() as session:\n",
    "            metrics = {\n",
    "                'total_books': session.query(Book).count(),\n",
    "                'available_books': session.query(Book).filter(Book.is_available == True).count(),\n",
    "                'total_patrons': session.query(Patron).count(),\n",
    "                'active_members': session.query(Patron).filter(\n",
    "                    Patron.membership_status == 'active'\n",
    "                ).count(),\n",
    "                'active_borrowings': session.query(BorrowedBook).filter(\n",
    "                    BorrowedBook.return_date.is_(None)\n",
    "                ).count(),\n",
    "                'overdue_books': session.query(BorrowedBook).filter(\n",
    "                    and_(\n",
    "                        BorrowedBook.return_date.is_(None),\n",
    "                        BorrowedBook.due_date < datetime.now()\n",
    "                    )\n",
    "                ).count(),\n",
    "                'total_revenue': float(self.analytics.payments_df['amount_paid'].sum()) if not self.analytics.payments_df.empty else 0.0,\n",
    "                'outstanding_payments': float(self.analytics.payments_df['remaining_amount'].sum()) if not self.analytics.payments_df.empty else 0.0\n",
    "            }\n",
    "        \n",
    "        return metrics\n",
    "    \n",
    "    def get_chart_data(self, chart_type, **kwargs):\n",
    "        \"\"\"Get data for specific chart types.\"\"\"\n",
    "        chart_methods = {\n",
    "            'borrowing_trends': self._get_borrowing_trends_data,\n",
    "            'popular_books': self._get_popular_books_data,\n",
    "            'overdue_analysis': self._get_overdue_analysis_data,\n",
    "            'financial_overview': self._get_financial_overview_data,\n",
    "            'patron_categories': self._get_patron_categories_data,\n",
    "            'collection_health': self._get_collection_health_data\n",
    "        }\n",
    "        \n",
    "        if chart_type in chart_methods:\n",
    "            return chart_methods[chart_type](**kwargs)\n",
    "        else:\n",
    "            raise ValueError(f\"Unknown chart type: {chart_type}\")\n",
    "    \n",
    "    def _get_borrowing_trends_data(self, days=30):\n",
    "        \"\"\"Get borrowing trends data.\"\"\"\n",
    "        if self.analytics.borrowings_df.empty:\n",
    "            return {'dates': [], 'counts': [], 'total': 0}\n",
    "        \n",
    "        end_date = datetime.now()\n",
    "        start_date = end_date - timedelta(days=days)\n",
    "        \n",
    "        filtered_df = self.analytics.borrowings_df[\n",
    "            self.analytics.borrowings_df['borrow_date'].between(start_date, end_date)\n",
    "        ]\n",
    "        \n",
    "        daily_counts = filtered_df.groupby(filtered_df['borrow_date'].dt.date).size()\n",
    "        \n",
    "        return {\n",
    "            'dates': [str(date) for date in daily_counts.index],\n",
    "            'counts': daily_counts.values.tolist(),\n",
    "            'total': int(daily_counts.sum()),\n",
    "            'average': float(daily_counts.mean()) if not daily_counts.empty else 0.0,\n",
    "            'peak_date': str(daily_counts.idxmax()) if not daily_counts.empty else None\n",
    "        }\n",
    "    \n",
    "    def _get_popular_books_data(self, limit=10):\n",
    "        \"\"\"Get most popular books data.\"\"\"\n",
    "        if self.analytics.borrowings_df.empty:\n",
    "            return {'titles': [], 'authors': [], 'counts': [], 'genres': []}\n",
    "        \n",
    "        popularity = self.analytics.borrowings_df.groupby(['book_title', 'book_author', 'book_genre']).size().reset_index(name='count')\n",
    "        top_books = popularity.nlargest(limit, 'count')\n",
    "        \n",
    "        return {\n",
    "            'titles': [title[:40] + '...' if len(title) > 40 else title for title in top_books['book_title'].tolist()],\n",
    "            'authors': top_books['book_author'].tolist(),\n",
    "            'counts': top_books['count'].tolist(),\n",
    "            'genres': top_books['book_genre'].tolist(),\n",
    "            'full_titles': top_books['book_title'].tolist()\n",
    "        }\n",
    "    \n",
    "    def _get_overdue_analysis_data(self):\n",
    "        \"\"\"Get overdue books analysis data.\"\"\"\n",
    "        if self.analytics.borrowings_df.empty:\n",
    "            return {'severity_labels': [], 'severity_counts': [], 'total_overdue': 0}\n",
    "        \n",
    "        current_overdue = self.analytics.borrowings_df[\n",
    "            (self.analytics.borrowings_df['return_date'].isna()) & \n",
    "            (self.analytics.borrowings_df['days_overdue'] > 0)\n",
    "        ].copy()\n",
    "        \n",
    "        if current_overdue.empty:\n",
    "            return {'severity_labels': [], 'severity_counts': [], 'total_overdue': 0}\n",
    "        \n",
    "        current_overdue['severity'] = pd.cut(\n",
    "            current_overdue['days_overdue'],\n",
    "            bins=[0, 7, 30, 90, float('inf')],\n",
    "            labels=['1-7 days', '8-30 days', '31-90 days', '90+ days'],\n",
    "            include_lowest=True\n",
    "        )\n",
    "        \n",
    "        severity_dist = current_overdue['severity'].value_counts()\n",
    "        \n",
    "        return {\n",
    "            'severity_labels': severity_dist.index.tolist(),\n",
    "            'severity_counts': severity_dist.values.tolist(),\n",
    "            'total_overdue': len(current_overdue),\n",
    "            'avg_days_overdue': float(current_overdue['days_overdue'].mean()),\n",
    "            'max_days_overdue': int(current_overdue['days_overdue'].max()),\n",
    "            'overdue_details': current_overdue[['patron_name', 'book_title', 'days_overdue']].to_dict('records')\n",
    "        }\n",
    "    \n",
    "    def _get_financial_overview_data(self, months=6):\n",
    "        \"\"\"Get financial overview data.\"\"\"\n",
    "        if self.analytics.payments_df.empty:\n",
    "            return {'months': [], 'revenues': [], 'transaction_counts': []}\n",
    "        \n",
    "        monthly_data = self.analytics.payments_df.groupby(\n",
    "            self.analytics.payments_df['payment_date'].dt.to_period('M')\n",
    "        ).agg({\n",
    "            'amount_paid': 'sum',\n",
    "            'payment_id': 'count'\n",
    "        }).tail(months)\n",
    "        \n",
    "        # Payment status distribution\n",
    "        status_dist = self.analytics.payments_df['status'].value_counts()\n",
    "        \n",
    "        return {\n",
    "            'months': [str(month) for month in monthly_data.index],\n",
    "            'revenues': monthly_data['amount_paid'].tolist(),\n",
    "            'transaction_counts': monthly_data['payment_id'].tolist(),\n",
    "            'status_labels': status_dist.index.tolist(),\n",
    "            'status_counts': status_dist.values.tolist(),\n",
    "            'total_revenue': float(self.analytics.payments_df['amount_paid'].sum()),\n",
    "            'outstanding_amount': float(self.analytics.payments_df['remaining_amount'].sum())\n",
    "        }\n",
    "    \n",
    "    def _get_patron_categories_data(self):\n",
    "        \"\"\"Get patron category distribution.\"\"\"\n",
    "        if self.analytics.patrons_df.empty:\n",
    "            return {'categories': [], 'counts': [], 'membership_stats': {}}\n",
    "        \n",
    "        category_dist = self.analytics.patrons_df['category'].value_counts()\n",
    "        membership_stats = self.analytics.patrons_df.groupby('category')['membership_status'].value_counts().unstack(fill_value=0)\n",
    "        \n",
    "        return {\n",
    "            'categories': category_dist.index.tolist(),\n",
    "            'counts': category_dist.values.tolist(),\n",
    "            'membership_stats': membership_stats.to_dict() if not membership_stats.empty else {}\n",
    "        }\n",
    "    \n",
    "    def _get_collection_health_data(self):\n",
    "        \"\"\"Get collection health metrics.\"\"\"\n",
    "        if self.analytics.books_df.empty:\n",
    "            return {'genres': [], 'counts': [], 'availability_rate': 0}\n",
    "        \n",
    "        genre_dist = self.analytics.books_df['class_name'].value_counts()\n",
    "        total_books = len(self.analytics.books_df)\n",
    "        available_books = len(self.analytics.books_df[self.analytics.books_df['is_available'] == True])\n",
    "        availability_rate = (available_books / total_books) * 100 if total_books > 0 else 0\n",
    "        \n",
    "        return {\n",
    "            'genres': genre_dist.index.tolist(),\n",
    "            'counts': genre_dist.values.tolist(),\n",
    "            'total_books': total_books,\n",
    "            'available_books': available_books,\n",
    "            'availability_rate': float(availability_rate)\n",
    "        }\n",
    "    \n",
    "    def generate_plotly_figure(self, chart_type, **kwargs):\n",
    "        \"\"\"Generate Plotly figure JSON for specific chart type.\"\"\"\n",
    "        try:\n",
    "            if chart_type == 'borrowing_trends':\n",
    "                return self.analytics.analyze_borrowing_patterns()[0].to_json()\n",
    "            elif chart_type == 'collection_health':\n",
    "                return self.analytics.analyze_collection_health()[0].to_json()\n",
    "            elif chart_type == 'patron_behavior':\n",
    "                return self.analytics.analyze_patron_behavior()[0].to_json()\n",
    "            elif chart_type == 'overdue_analysis':\n",
    "                result = self.analytics.analyze_overdue_crisis()\n",
    "                return result[0].to_json() if result else '{}'\n",
    "            elif chart_type == 'financial_performance':\n",
    "                return self.analytics.analyze_financial_performance()[0].to_json()\n",
    "            else:\n",
    "                return '{}'\n",
    "        except Exception as e:\n",
    "            print(f\"Error generating {chart_type} figure: {e}\")\n",
    "            return '{}'\n",
    "    \n",
    "    def get_alerts_and_recommendations(self):\n",
    "        \"\"\"Get current alerts and actionable recommendations.\"\"\"\n",
    "        insights, recommendations = self.analytics.generate_predictive_insights()\n",
    "        \n",
    "        # Generate alerts based on current data\n",
    "        alerts = []\n",
    "        kpis = self.get_kpi_metrics()\n",
    "        \n",
    "        if kpis['overdue_books'] > 0:\n",
    "            alerts.append({\n",
    "                'type': 'critical',\n",
    "                'message': f\"{kpis['overdue_books']} books are overdue and require immediate attention\",\n",
    "                'action': 'Send overdue notices to patrons'\n",
    "            })\n",
    "        \n",
    "        if kpis['available_books'] / kpis['total_books'] < 0.3:  # Less than 30% availability\n",
    "            alerts.append({\n",
    "                'type': 'warning',\n",
    "                'message': f\"Low book availability: Only {kpis['available_books']} of {kpis['total_books']} books available\",\n",
    "                'action': 'Review borrowing policies or acquire more popular titles'\n",
    "            })\n",
    "        \n",
    "        if kpis['outstanding_payments'] > 0:\n",
    "            alerts.append({\n",
    "                'type': 'info',\n",
    "                'message': f\"Outstanding payments: ${kpis['outstanding_payments']:.2f}\",\n",
    "                'action': 'Follow up on pending payments'\n",
    "            })\n",
    "        \n",
    "        return {\n",
    "            'alerts': alerts,\n",
    "            'insights': insights,\n",
    "            'recommendations': recommendations\n",
    "        }\n"
   ]
  },
  {
   "cell_type": "code",
   "execution_count": 17,
   "id": "b360e6bc",
   "metadata": {},
   "outputs": [],
   "source": [
    "\n",
    "# =============================================================================\n",
    "# USAGE EXAMPLE AND TESTING\n",
    "# =============================================================================\n",
    "\n",
    "def main():\n",
    "    \"\"\"Example usage of the enhanced analytics system.\"\"\"\n",
    "    \n",
    "    # Replace with your actual database path\n",
    "    DB_PATH = \"/home/tjselevani/Desktop/Apps/vscode/python/library_system/library_system.db\"\n",
    "    \n",
    "    try:\n",
    "        print(\"Initializing Library Analytics System...\")\n",
    "        \n",
    "        # Run comprehensive analysis\n",
    "        results, summary = run_comprehensive_analysis(DB_PATH)\n",
    "        \n",
    "        # Test production API\n",
    "        print(\"\\nTesting Production API...\")\n",
    "        dashboard_api = LibraryDashboardAPI(DB_PATH)\n",
    "        \n",
    "        # Get KPI metrics\n",
    "        kpis = dashboard_api.get_kpi_metrics()\n",
    "        print(\"KPI Metrics:\", kpis)\n",
    "        \n",
    "        # Get chart data examples\n",
    "        trends_data = dashboard_api.get_chart_data('borrowing_trends', days=30)\n",
    "        print(\"Borrowing Trends Sample:\", trends_data)\n",
    "        \n",
    "        # Get alerts and recommendations\n",
    "        alerts = dashboard_api.get_alerts_and_recommendations()\n",
    "        print(\"Alerts and Recommendations:\", alerts)\n",
    "        \n",
    "        print(\"\\nAnalysis completed successfully!\")\n",
    "        return results, summary, dashboard_api\n",
    "        \n",
    "    except Exception as e:\n",
    "        print(f\"Error during analysis: {e}\")\n",
    "        return None, None, None\n",
    "    \n",
    "    \n"
   ]
  },
  {
   "cell_type": "code",
   "execution_count": 18,
   "id": "860c3ef2",
   "metadata": {},
   "outputs": [
    {
     "name": "stdout",
     "output_type": "stream",
     "text": [
      "Initializing Library Analytics System...\n",
      "============================================================\n",
      "COMPREHENSIVE LIBRARY ANALYTICS REPORT\n",
      "============================================================\n",
      "Database connection established successfully!\n",
      "\n",
      "Database Overview:\n",
      "  Books: 4\n",
      "  Patrons: 4\n",
      "  Borrowed Books: 1\n",
      "  Payments: 4\n",
      "\n",
      "Data loaded successfully:\n",
      "  Books: 4\n",
      "  Patrons: 4\n",
      "  Borrowings: 1\n",
      "  Payments: 4\n",
      "\n",
      "1. COLLECTION HEALTH ANALYSIS\n",
      "----------------------------------------\n",
      "Total Books: 4\n",
      "Availability Rate: 75.0%\n",
      "Most Popular Genre: CS101 (1 books)\n"
     ]
    },
    {
     "data": {
      "application/vnd.plotly.v1+json": {
       "config": {
        "plotlyServerURL": "https://plot.ly"
       },
       "data": [
        {
         "domain": {
          "x": [
           0,
           0.45
          ],
          "y": [
           0,
           1
          ]
         },
         "hovertemplate": "<b>%{label}</b><br>Books: %{value}<br>Percentage: %{percent}<extra></extra>",
         "labels": [
          "CS101",
          "CS202",
          "CS303",
          "FIC"
         ],
         "name": "Genre Distribution",
         "type": "pie",
         "values": {
          "bdata": "AQEBAQ==",
          "dtype": "i1"
         }
        },
        {
         "marker": {
          "color": [
           "#2E8B57",
           "#DC143C"
          ]
         },
         "name": "Availability",
         "type": "bar",
         "x": [
          "Available",
          "Checked Out"
         ],
         "xaxis": "x",
         "y": [
          3,
          1
         ],
         "yaxis": "y"
        }
       ],
       "layout": {
        "annotations": [
         {
          "font": {
           "size": 16
          },
          "showarrow": false,
          "text": "Collection by Genre",
          "x": 0.225,
          "xanchor": "center",
          "xref": "paper",
          "y": 1,
          "yanchor": "bottom",
          "yref": "paper"
         },
         {
          "font": {
           "size": 16
          },
          "showarrow": false,
          "text": "Book Availability",
          "x": 0.775,
          "xanchor": "center",
          "xref": "paper",
          "y": 1,
          "yanchor": "bottom",
          "yref": "paper"
         }
        ],
        "height": 500,
        "template": {
         "data": {
          "bar": [
           {
            "error_x": {
             "color": "#2a3f5f"
            },
            "error_y": {
             "color": "#2a3f5f"
            },
            "marker": {
             "line": {
              "color": "white",
              "width": 0.5
             },
             "pattern": {
              "fillmode": "overlay",
              "size": 10,
              "solidity": 0.2
             }
            },
            "type": "bar"
           }
          ],
          "barpolar": [
           {
            "marker": {
             "line": {
              "color": "white",
              "width": 0.5
             },
             "pattern": {
              "fillmode": "overlay",
              "size": 10,
              "solidity": 0.2
             }
            },
            "type": "barpolar"
           }
          ],
          "carpet": [
           {
            "aaxis": {
             "endlinecolor": "#2a3f5f",
             "gridcolor": "#C8D4E3",
             "linecolor": "#C8D4E3",
             "minorgridcolor": "#C8D4E3",
             "startlinecolor": "#2a3f5f"
            },
            "baxis": {
             "endlinecolor": "#2a3f5f",
             "gridcolor": "#C8D4E3",
             "linecolor": "#C8D4E3",
             "minorgridcolor": "#C8D4E3",
             "startlinecolor": "#2a3f5f"
            },
            "type": "carpet"
           }
          ],
          "choropleth": [
           {
            "colorbar": {
             "outlinewidth": 0,
             "ticks": ""
            },
            "type": "choropleth"
           }
          ],
          "contour": [
           {
            "colorbar": {
             "outlinewidth": 0,
             "ticks": ""
            },
            "colorscale": [
             [
              0,
              "#0d0887"
             ],
             [
              0.1111111111111111,
              "#46039f"
             ],
             [
              0.2222222222222222,
              "#7201a8"
             ],
             [
              0.3333333333333333,
              "#9c179e"
             ],
             [
              0.4444444444444444,
              "#bd3786"
             ],
             [
              0.5555555555555556,
              "#d8576b"
             ],
             [
              0.6666666666666666,
              "#ed7953"
             ],
             [
              0.7777777777777778,
              "#fb9f3a"
             ],
             [
              0.8888888888888888,
              "#fdca26"
             ],
             [
              1,
              "#f0f921"
             ]
            ],
            "type": "contour"
           }
          ],
          "contourcarpet": [
           {
            "colorbar": {
             "outlinewidth": 0,
             "ticks": ""
            },
            "type": "contourcarpet"
           }
          ],
          "heatmap": [
           {
            "colorbar": {
             "outlinewidth": 0,
             "ticks": ""
            },
            "colorscale": [
             [
              0,
              "#0d0887"
             ],
             [
              0.1111111111111111,
              "#46039f"
             ],
             [
              0.2222222222222222,
              "#7201a8"
             ],
             [
              0.3333333333333333,
              "#9c179e"
             ],
             [
              0.4444444444444444,
              "#bd3786"
             ],
             [
              0.5555555555555556,
              "#d8576b"
             ],
             [
              0.6666666666666666,
              "#ed7953"
             ],
             [
              0.7777777777777778,
              "#fb9f3a"
             ],
             [
              0.8888888888888888,
              "#fdca26"
             ],
             [
              1,
              "#f0f921"
             ]
            ],
            "type": "heatmap"
           }
          ],
          "histogram": [
           {
            "marker": {
             "pattern": {
              "fillmode": "overlay",
              "size": 10,
              "solidity": 0.2
             }
            },
            "type": "histogram"
           }
          ],
          "histogram2d": [
           {
            "colorbar": {
             "outlinewidth": 0,
             "ticks": ""
            },
            "colorscale": [
             [
              0,
              "#0d0887"
             ],
             [
              0.1111111111111111,
              "#46039f"
             ],
             [
              0.2222222222222222,
              "#7201a8"
             ],
             [
              0.3333333333333333,
              "#9c179e"
             ],
             [
              0.4444444444444444,
              "#bd3786"
             ],
             [
              0.5555555555555556,
              "#d8576b"
             ],
             [
              0.6666666666666666,
              "#ed7953"
             ],
             [
              0.7777777777777778,
              "#fb9f3a"
             ],
             [
              0.8888888888888888,
              "#fdca26"
             ],
             [
              1,
              "#f0f921"
             ]
            ],
            "type": "histogram2d"
           }
          ],
          "histogram2dcontour": [
           {
            "colorbar": {
             "outlinewidth": 0,
             "ticks": ""
            },
            "colorscale": [
             [
              0,
              "#0d0887"
             ],
             [
              0.1111111111111111,
              "#46039f"
             ],
             [
              0.2222222222222222,
              "#7201a8"
             ],
             [
              0.3333333333333333,
              "#9c179e"
             ],
             [
              0.4444444444444444,
              "#bd3786"
             ],
             [
              0.5555555555555556,
              "#d8576b"
             ],
             [
              0.6666666666666666,
              "#ed7953"
             ],
             [
              0.7777777777777778,
              "#fb9f3a"
             ],
             [
              0.8888888888888888,
              "#fdca26"
             ],
             [
              1,
              "#f0f921"
             ]
            ],
            "type": "histogram2dcontour"
           }
          ],
          "mesh3d": [
           {
            "colorbar": {
             "outlinewidth": 0,
             "ticks": ""
            },
            "type": "mesh3d"
           }
          ],
          "parcoords": [
           {
            "line": {
             "colorbar": {
              "outlinewidth": 0,
              "ticks": ""
             }
            },
            "type": "parcoords"
           }
          ],
          "pie": [
           {
            "automargin": true,
            "type": "pie"
           }
          ],
          "scatter": [
           {
            "fillpattern": {
             "fillmode": "overlay",
             "size": 10,
             "solidity": 0.2
            },
            "type": "scatter"
           }
          ],
          "scatter3d": [
           {
            "line": {
             "colorbar": {
              "outlinewidth": 0,
              "ticks": ""
             }
            },
            "marker": {
             "colorbar": {
              "outlinewidth": 0,
              "ticks": ""
             }
            },
            "type": "scatter3d"
           }
          ],
          "scattercarpet": [
           {
            "marker": {
             "colorbar": {
              "outlinewidth": 0,
              "ticks": ""
             }
            },
            "type": "scattercarpet"
           }
          ],
          "scattergeo": [
           {
            "marker": {
             "colorbar": {
              "outlinewidth": 0,
              "ticks": ""
             }
            },
            "type": "scattergeo"
           }
          ],
          "scattergl": [
           {
            "marker": {
             "colorbar": {
              "outlinewidth": 0,
              "ticks": ""
             }
            },
            "type": "scattergl"
           }
          ],
          "scattermap": [
           {
            "marker": {
             "colorbar": {
              "outlinewidth": 0,
              "ticks": ""
             }
            },
            "type": "scattermap"
           }
          ],
          "scattermapbox": [
           {
            "marker": {
             "colorbar": {
              "outlinewidth": 0,
              "ticks": ""
             }
            },
            "type": "scattermapbox"
           }
          ],
          "scatterpolar": [
           {
            "marker": {
             "colorbar": {
              "outlinewidth": 0,
              "ticks": ""
             }
            },
            "type": "scatterpolar"
           }
          ],
          "scatterpolargl": [
           {
            "marker": {
             "colorbar": {
              "outlinewidth": 0,
              "ticks": ""
             }
            },
            "type": "scatterpolargl"
           }
          ],
          "scatterternary": [
           {
            "marker": {
             "colorbar": {
              "outlinewidth": 0,
              "ticks": ""
             }
            },
            "type": "scatterternary"
           }
          ],
          "surface": [
           {
            "colorbar": {
             "outlinewidth": 0,
             "ticks": ""
            },
            "colorscale": [
             [
              0,
              "#0d0887"
             ],
             [
              0.1111111111111111,
              "#46039f"
             ],
             [
              0.2222222222222222,
              "#7201a8"
             ],
             [
              0.3333333333333333,
              "#9c179e"
             ],
             [
              0.4444444444444444,
              "#bd3786"
             ],
             [
              0.5555555555555556,
              "#d8576b"
             ],
             [
              0.6666666666666666,
              "#ed7953"
             ],
             [
              0.7777777777777778,
              "#fb9f3a"
             ],
             [
              0.8888888888888888,
              "#fdca26"
             ],
             [
              1,
              "#f0f921"
             ]
            ],
            "type": "surface"
           }
          ],
          "table": [
           {
            "cells": {
             "fill": {
              "color": "#EBF0F8"
             },
             "line": {
              "color": "white"
             }
            },
            "header": {
             "fill": {
              "color": "#C8D4E3"
             },
             "line": {
              "color": "white"
             }
            },
            "type": "table"
           }
          ]
         },
         "layout": {
          "annotationdefaults": {
           "arrowcolor": "#2a3f5f",
           "arrowhead": 0,
           "arrowwidth": 1
          },
          "autotypenumbers": "strict",
          "coloraxis": {
           "colorbar": {
            "outlinewidth": 0,
            "ticks": ""
           }
          },
          "colorscale": {
           "diverging": [
            [
             0,
             "#8e0152"
            ],
            [
             0.1,
             "#c51b7d"
            ],
            [
             0.2,
             "#de77ae"
            ],
            [
             0.3,
             "#f1b6da"
            ],
            [
             0.4,
             "#fde0ef"
            ],
            [
             0.5,
             "#f7f7f7"
            ],
            [
             0.6,
             "#e6f5d0"
            ],
            [
             0.7,
             "#b8e186"
            ],
            [
             0.8,
             "#7fbc41"
            ],
            [
             0.9,
             "#4d9221"
            ],
            [
             1,
             "#276419"
            ]
           ],
           "sequential": [
            [
             0,
             "#0d0887"
            ],
            [
             0.1111111111111111,
             "#46039f"
            ],
            [
             0.2222222222222222,
             "#7201a8"
            ],
            [
             0.3333333333333333,
             "#9c179e"
            ],
            [
             0.4444444444444444,
             "#bd3786"
            ],
            [
             0.5555555555555556,
             "#d8576b"
            ],
            [
             0.6666666666666666,
             "#ed7953"
            ],
            [
             0.7777777777777778,
             "#fb9f3a"
            ],
            [
             0.8888888888888888,
             "#fdca26"
            ],
            [
             1,
             "#f0f921"
            ]
           ],
           "sequentialminus": [
            [
             0,
             "#0d0887"
            ],
            [
             0.1111111111111111,
             "#46039f"
            ],
            [
             0.2222222222222222,
             "#7201a8"
            ],
            [
             0.3333333333333333,
             "#9c179e"
            ],
            [
             0.4444444444444444,
             "#bd3786"
            ],
            [
             0.5555555555555556,
             "#d8576b"
            ],
            [
             0.6666666666666666,
             "#ed7953"
            ],
            [
             0.7777777777777778,
             "#fb9f3a"
            ],
            [
             0.8888888888888888,
             "#fdca26"
            ],
            [
             1,
             "#f0f921"
            ]
           ]
          },
          "colorway": [
           "#636efa",
           "#EF553B",
           "#00cc96",
           "#ab63fa",
           "#FFA15A",
           "#19d3f3",
           "#FF6692",
           "#B6E880",
           "#FF97FF",
           "#FECB52"
          ],
          "font": {
           "color": "#2a3f5f"
          },
          "geo": {
           "bgcolor": "white",
           "lakecolor": "white",
           "landcolor": "white",
           "showlakes": true,
           "showland": true,
           "subunitcolor": "#C8D4E3"
          },
          "hoverlabel": {
           "align": "left"
          },
          "hovermode": "closest",
          "mapbox": {
           "style": "light"
          },
          "paper_bgcolor": "white",
          "plot_bgcolor": "white",
          "polar": {
           "angularaxis": {
            "gridcolor": "#EBF0F8",
            "linecolor": "#EBF0F8",
            "ticks": ""
           },
           "bgcolor": "white",
           "radialaxis": {
            "gridcolor": "#EBF0F8",
            "linecolor": "#EBF0F8",
            "ticks": ""
           }
          },
          "scene": {
           "xaxis": {
            "backgroundcolor": "white",
            "gridcolor": "#DFE8F3",
            "gridwidth": 2,
            "linecolor": "#EBF0F8",
            "showbackground": true,
            "ticks": "",
            "zerolinecolor": "#EBF0F8"
           },
           "yaxis": {
            "backgroundcolor": "white",
            "gridcolor": "#DFE8F3",
            "gridwidth": 2,
            "linecolor": "#EBF0F8",
            "showbackground": true,
            "ticks": "",
            "zerolinecolor": "#EBF0F8"
           },
           "zaxis": {
            "backgroundcolor": "white",
            "gridcolor": "#DFE8F3",
            "gridwidth": 2,
            "linecolor": "#EBF0F8",
            "showbackground": true,
            "ticks": "",
            "zerolinecolor": "#EBF0F8"
           }
          },
          "shapedefaults": {
           "line": {
            "color": "#2a3f5f"
           }
          },
          "ternary": {
           "aaxis": {
            "gridcolor": "#DFE8F3",
            "linecolor": "#A2B1C6",
            "ticks": ""
           },
           "baxis": {
            "gridcolor": "#DFE8F3",
            "linecolor": "#A2B1C6",
            "ticks": ""
           },
           "bgcolor": "white",
           "caxis": {
            "gridcolor": "#DFE8F3",
            "linecolor": "#A2B1C6",
            "ticks": ""
           }
          },
          "title": {
           "x": 0.05
          },
          "xaxis": {
           "automargin": true,
           "gridcolor": "#EBF0F8",
           "linecolor": "#EBF0F8",
           "ticks": "",
           "title": {
            "standoff": 15
           },
           "zerolinecolor": "#EBF0F8",
           "zerolinewidth": 2
          },
          "yaxis": {
           "automargin": true,
           "gridcolor": "#EBF0F8",
           "linecolor": "#EBF0F8",
           "ticks": "",
           "title": {
            "standoff": 15
           },
           "zerolinecolor": "#EBF0F8",
           "zerolinewidth": 2
          }
         }
        },
        "title": {
         "text": "Library Collection Health Analysis"
        },
        "xaxis": {
         "anchor": "y",
         "domain": [
          0.55,
          1
         ]
        },
        "yaxis": {
         "anchor": "x",
         "domain": [
          0,
          1
         ]
        }
       }
      }
     },
     "metadata": {},
     "output_type": "display_data"
    },
    {
     "name": "stdout",
     "output_type": "stream",
     "text": [
      "Error during analysis: 'dict' object has no attribute 'show'\n",
      "Analysis failed. Please check your database path and connection.\n"
     ]
    }
   ],
   "source": [
    "\n",
    "# For Jupyter notebook execution\n",
    "if __name__ == \"__main__\":\n",
    "    # Set your database path here\n",
    "    DB_PATH = \"/home/tjselevani/Desktop/Apps/vscode/python/library_system/library_system.db\"\n",
    "    \n",
    "    # Run the analysis\n",
    "    results, summary, api = main()\n",
    "    \n",
    "    if results:\n",
    "        print(\"\\n\" + \"=\"*50)\n",
    "        print(\"ANALYSIS COMPLETE - Ready for PyQt5 Integration!\")\n",
    "        print(\"=\"*50)\n",
    "        \n",
    "        # Show available functions for PyQt5\n",
    "        print(\"\\nAvailable functions for PyQt5 integration:\")\n",
    "        print(\"1. api.get_kpi_metrics() - Get dashboard KPIs\")\n",
    "        print(\"2. api.get_chart_data(chart_type) - Get data for charts\")\n",
    "        print(\"3. api.generate_plotly_figure(chart_type) - Get Plotly JSON\")\n",
    "        print(\"4. api.get_alerts_and_recommendations() - Get alerts/recommendations\")\n",
    "        \n",
    "        print(\"\\nChart types available:\")\n",
    "        chart_types = [\n",
    "            'borrowing_trends', 'popular_books', 'overdue_analysis',\n",
    "            'financial_overview', 'patron_categories', 'collection_health'\n",
    "        ]\n",
    "        for i, chart_type in enumerate(chart_types, 1):\n",
    "            print(f\"{i}. {chart_type}\")\n",
    "            \n",
    "        print(\"\\nExample usage in PyQt5:\")\n",
    "        print(\"```python\")\n",
    "        print(\"from your_analytics_module import LibraryDashboardAPI\")\n",
    "        print(\"api = LibraryDashboardAPI('path/to/db')\")\n",
    "        print(\"kpis = api.get_kpi_metrics()\")\n",
    "        print(\"chart_json = api.generate_plotly_figure('borrowing_trends')\")\n",
    "        print(\"```\")\n",
    "        \n",
    "    else:\n",
    "        print(\"Analysis failed. Please check your database path and connection.\")"
   ]
  }
 ],
 "metadata": {
  "kernelspec": {
   "display_name": "venv (3.11.13)",
   "language": "python",
   "name": "python3"
  },
  "language_info": {
   "codemirror_mode": {
    "name": "ipython",
    "version": 3
   },
   "file_extension": ".py",
   "mimetype": "text/x-python",
   "name": "python",
   "nbconvert_exporter": "python",
   "pygments_lexer": "ipython3",
   "version": "3.11.13"
  }
 },
 "nbformat": 4,
 "nbformat_minor": 5
}
